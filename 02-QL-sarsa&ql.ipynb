{
 "cells": [
  {
   "cell_type": "code",
   "execution_count": 12,
   "metadata": {},
   "outputs": [],
   "source": [
    "import time\n",
    "import random\n",
    "import numpy as np"
   ]
  },
  {
   "cell_type": "code",
   "execution_count": 13,
   "metadata": {},
   "outputs": [],
   "source": [
    "class Env():\n",
    "    def __init__(self, length, height):\n",
    "        # define the height and length of the map\n",
    "        self.length = length\n",
    "        self.height = height\n",
    "        # define the agent's start position\n",
    "        self.x = 0\n",
    "        self.y = 0\n",
    "\n",
    "    def render(self, frames=50):\n",
    "        for i in range(self.height):\n",
    "            if i == 0: # cliff is in the line 0\n",
    "                line = ['S'] + ['x']*(self.length - 2) + ['T'] # 'S':start, 'T':terminal, 'x':the cliff\n",
    "            else:\n",
    "                line = ['.'] * self.length\n",
    "            if self.x == i:\n",
    "                line[self.y] = 'o' # mark the agent's position as 'o'\n",
    "            print(''.join(line))\n",
    "        print('\\033['+str(self.height+1)+'A')  # printer go back to top-left \n",
    "        time.sleep(1.0 / frames)\n",
    "\n",
    "    def step(self, action):\n",
    "        \"\"\"4 legal actions, 0:up, 1:down, 2:left, 3:right\"\"\"\n",
    "        change = [[0, 1], [0, -1], [-1, 0], [1, 0]]\n",
    "        self.x = min(self.length - 1, max(0, self.x + change[action][0]))\n",
    "        self.y = min(self.height - 1, max(0, self.y + change[action][1]))\n",
    "\n",
    "        states = [self.x, self.y]\n",
    "        reward = -1\n",
    "        terminal = False\n",
    "        if self.y == 0: # if agent is on the cliff line \"SxxxxxT\"\n",
    "            if self.x > 0: # if agent is not on the start position \n",
    "                terminal = True\n",
    "                if self.x != self.length - 1: # if agent falls\n",
    "                    reward = -100\n",
    "        return reward, states, terminal\n",
    "\n",
    "    def reset(self):\n",
    "        self.x = 0\n",
    "        self.y = 0"
   ]
  },
  {
   "cell_type": "code",
   "execution_count": 14,
   "metadata": {},
   "outputs": [],
   "source": [
    "class Q_table():\n",
    "    def __init__(self, length, height, actions=4, alpha=0.1, gamma=0.9):\n",
    "        self.table = [0] * actions * length * height # initialize all Q(s,a) to zero\n",
    "        self.actions = actions\n",
    "        self.length = length\n",
    "        self.height = height\n",
    "        self.alpha = alpha\n",
    "        self.gamma = gamma\n",
    "\n",
    "    def _index(self, a, x, y):\n",
    "        \"\"\"Return the index of Q([x,y], a) in Q_table.\"\"\"\n",
    "        return a * self.height * self.length + y * self.length + x\n",
    "\n",
    "    def _epsilon(self,num_episode):\n",
    "        # return 0.1\n",
    "        # version for better convergence:\n",
    "        # \"\"\"At the beginning epsilon is 0.2,\n",
    "        # after 300 episodes decades to 0.05,\n",
    "        # and eventually go to 0.\"\"\"\n",
    "        return 20. / (num_episode + 100)\n",
    "\n",
    "    def take_action(self, x, y, num_episode):\n",
    "        rand_percentile = np.random.uniform(0, 1)\n",
    "        if rand_percentile < self._epsilon(num_episode):\n",
    "            # Exploration: Random Action\n",
    "            return np.random.choice(self.actions)\n",
    "        else:\n",
    "            # Exploitation: Greedy Action\n",
    "            actions_values = []\n",
    "            for act in range(self.actions):\n",
    "                actions_values.append(self.table[self._index(act, x, y)])\n",
    "            return np.argmax(actions_values)\n",
    "\n",
    "\n",
    "\n",
    "    def max_q(self, x, y):\n",
    "        actions_value = [self.table[self._index(a, x, y)] for a in range(self.actions)]\n",
    "        return max(actions_value)\n",
    "\n",
    "    def update(self, a, s0, s1, r, is_terminated, num_episode, is_online):\n",
    "        # both s0, s1 have the form [x,y]\n",
    "        # s0 -> S, S1 -> S', r -> R\n",
    "        # qsa -> Q(S, A)\n",
    "        if is_online:\n",
    "            # Sarsa\n",
    "            qsa = self.table[self._index(a, s0[0], s0[1])]\n",
    "            next_action = 0\n",
    "            if is_terminated:\n",
    "                td_target = r\n",
    "            else:\n",
    "                next_action = self.take_action(s1[0], s1[1], num_episode)\n",
    "                td_target = r + self.gamma * self.table[self._index(next_action, s1[0], s1[1])]\n",
    "            self.table[self._index(a, s0[0], s0[1])] += self.alpha * (td_target - qsa)\n",
    "            return next_action\n",
    "        else:\n",
    "            # Q-learning\n",
    "            qsa = self.table[self._index(a, s0[0], s0[1])]\n",
    "            if is_terminated:\n",
    "                td_target = r\n",
    "            else:\n",
    "                td_target = r + self.gamma * self.max_q(s1[0], s1[1])\n",
    "            self.table[self._index(a, s0[0], s0[1])] += self.alpha * (td_target - qsa)"
   ]
  },
  {
   "cell_type": "code",
   "execution_count": 15,
   "metadata": {},
   "outputs": [
    {
     "name": "stdout",
     "output_type": "stream",
     "text": [
      "Episode: 0, Score: -100Episode: 20, Score: -124Episode: 40, Score: -100Episode: 60, Score: -98Episode: 80, Score: -96Episode: 100, Score: -149Episode: 120, Score: -139Episode: 140, Score: -49Episode: 160, Score: -38Episode: 180, Score: -25Episode: 200, Score: -23Episode: 220, Score: -29Episode: 240, Score: -27Episode: 260, Score: -25Episode: 280, Score: -19Episode: 300, Score: -19Episode: 320, Score: -19Episode: 340, Score: -22Episode: 360, Score: -15Episode: 380, Score: -15Episode: 400, Score: -15Episode: 420, Score: -25Episode: 440, Score: -15Episode: 460, Score: -17Episode: 480, Score: -21Episode: 500, Score: -15Episode: 520, Score: -17Episode: 540, Score: -15Episode: 560, Score: -15Episode: 580, Score: -15Episode: 600, Score: -15Episode: 620, Score: -15Episode: 640, Score: -15Episode: 660, Score: -15Episode: 680, Score: -19Episode: 700, Score: -17Episode: 720, Score: -19Episode: 740, Score: -15Episode: 760, Score: -15Episode: 780, Score: -15Episode: 800, Score: -15Episode: 820, Score: -15Episode: 840, Score: -17Episode: 860, Score: -15Episode: 880, Score: -15Episode: 900, Score: -15Episode: 920, Score: -15Episode: 940, Score: -15Episode: 960, Score: -15Episode: 980, Score: -15Episode: 1000, Score: -15Episode: 1020, Score: -15Episode: 1040, Score: -15Episode: 1060, Score: -15Episode: 1080, Score: -16Episode: 1100, Score: -15Episode: 1120, Score: -15Episode: 1140, Score: -15Episode: 1160, Score: -15Episode: 1180, Score: -15Episode: 1200, Score: -15Episode: 1220, Score: -17Episode: 1240, Score: -15Episode: 1260, Score: -15Episode: 1280, Score: -17Episode: 1300, Score: -15Episode: 1320, Score: -15Episode: 1340, Score: -15Episode: 1360, Score: -15Episode: 1380, Score: -15Episode: 1400, Score: -15Episode: 1420, Score: -15Episode: 1440, Score: -17Episode: 1460, Score: -17Episode: 1480, Score: -15Episode: 1500, Score: -15Episode: 1520, Score: -15Episode: 1540, Score: -15Episode: 1560, Score: -15Episode: 1580, Score: -15Episode: 1600, Score: -15Episode: 1620, Score: -15Episode: 1640, Score: -15Episode: 1660, Score: -15Episode: 1680, Score: -15Episode: 1700, Score: -15Episode: 1720, Score: -17Episode: 1740, Score: -15Episode: 1760, Score: -15Episode: 1780, Score: -15Episode: 1800, Score: -15Episode: 1820, Score: -15Episode: 1840, Score: -17Episode: 1860, Score: -15Episode: 1880, Score: -15Episode: 1900, Score: -15Episode: 1920, Score: -15Episode: 1940, Score: -17Episode: 1960, Score: -15Episode: 1980, Score: -15Episode: 2000, Score: -15Episode: 2020, Score: -15Episode: 2040, Score: -15Episode: 2060, Score: -15Episode: 2080, Score: -15Episode: 2100, Score: -100Episode: 2120, Score: -15Episode: 2140, Score: -15Episode: 2160, Score: -15Episode: 2180, Score: -15Episode: 2200, Score: -15Episode: 2220, Score: -15Episode: 2240, Score: -15Episode: 2260, Score: -15Episode: 2280, Score: -15Episode: 2300, Score: -15Episode: 2320, Score: -15Episode: 2340, Score: -15Episode: 2360, Score: -15Episode: 2380, Score: -15Episode: 2400, Score: -15Episode: 2420, Score: -15Episode: 2440, Score: -15Episode: 2460, Score: -17Episode: 2480, Score: -15Episode: 2500, Score: -15Episode: 2520, Score: -17Episode: 2540, Score: -15Episode: 2560, Score: -15Episode: 2580, Score: -15Episode: 2600, Score: -15Episode: 2620, Score: -15Episode: 2640, Score: -15Episode: 2660, Score: -15Episode: 2680, Score: -15Episode: 2700, Score: -15Episode: 2720, Score: -15Episode: 2740, Score: -15Episode: 2760, Score: -15Episode: 2780, Score: -15Episode: 2800, Score: -15Episode: 2820, Score: -15Episode: 2840, Score: -17Episode: 2860, Score: -15Episode: 2880, Score: -15Episode: 2900, Score: -15Episode: 2920, Score: -17Episode: 2940, Score: -15Episode: 2960, Score: -15Episode: 2980, Score: -15"
     ]
    }
   ],
   "source": [
    "env = Env(length=12, height=4)\n",
    "table = Q_table(length=12, height=4)\n",
    "\n",
    "nums = []\n",
    "rewards = []\n",
    "\n",
    "is_online = True\n",
    "\n",
    "for num_episode in range(3000):\n",
    "    # within the whole learning process\n",
    "    episodic_reward = 0\n",
    "    is_terminated = False\n",
    "    s0 = [0, 0]\n",
    "    next_action = table.take_action(s0[0], s0[1], num_episode)\n",
    "    while not is_terminated:\n",
    "        # within one episode\n",
    "        if is_online:\n",
    "            action = next_action\n",
    "        else:\n",
    "            action = table.take_action(s0[0], s0[1], num_episode)\n",
    "        r, s1, is_terminated = env.step(action)\n",
    "        next_action = table.update(action, s0, s1, r, is_terminated, num_episode, is_online)\n",
    "        episodic_reward += r\n",
    "        # env.render(frames=100)\n",
    "        s0 = s1\n",
    "    if num_episode % 20 == 0:\n",
    "        print(\"Episode: {}, Score: {}\".format(num_episode, episodic_reward))\n",
    "    nums.append(num_episode)\n",
    "    rewards.append(episodic_reward)\n",
    "    env.reset()"
   ]
  },
  {
   "cell_type": "code",
   "execution_count": 16,
   "metadata": {},
   "outputs": [],
   "source": [
    "def get_item(table, x, y):\n",
    "    return [table.table[table._index(a, x, y)] for a in range(4)]\n",
    "\n",
    "def way(dir):\n",
    "    if dir == 0:\n",
    "        return '⬆️'\n",
    "    elif dir == 1:\n",
    "        return '⬇️'\n",
    "    elif dir == 2:\n",
    "        return '⬅️'\n",
    "    elif dir == 3:\n",
    "        return '➡️'\n",
    "\n",
    "\n",
    "## print_all_actions(table):\n"
   ]
  },
  {
   "cell_type": "code",
   "execution_count": 17,
   "metadata": {},
   "outputs": [
    {
     "name": "stdout",
     "output_type": "stream",
     "text": [
      "➡️➡️➡️⬇️➡️➡️➡️➡️➡️⬇️⬇️⬇️\n",
      "➡️➡️➡️➡️➡️➡️➡️➡️➡️➡️➡️⬇️\n",
      "⬆️⬆️⬆️⬆️⬆️➡️⬆️⬆️⬆️⬆️➡️⬇️\n",
      "⬆️⬆️⬆️⬆️⬆️⬆️⬆️⬆️⬆️⬆️⬆️⬆️\n"
     ]
    }
   ],
   "source": [
    "for y in range(env.height-1, -1, -1):\n",
    "    for x in range(0, env.length):\n",
    "        print(way(np.argmax(get_item(table, x, y))), end='')\n",
    "    print()"
   ]
  },
  {
   "cell_type": "code",
   "execution_count": 18,
   "metadata": {},
   "outputs": [
    {
     "data": {
      "text/plain": [
       "[0, 0, 0, 0]"
      ]
     },
     "execution_count": 18,
     "metadata": {},
     "output_type": "execute_result"
    }
   ],
   "source": [
    "get_item(table, 1, 0)"
   ]
  },
  {
   "cell_type": "code",
   "execution_count": 19,
   "metadata": {},
   "outputs": [
    {
     "data": {
      "image/png": "[encoded data removed]",
      "text/plain": [
       "<Figure size 432x288 with 1 Axes>"
      ]
     },
     "metadata": {
      "needs_background": "light"
     },
     "output_type": "display_data"
    }
   ],
   "source": [
    "import matplotlib.pyplot as plt\n",
    "\n",
    "plt.xlabel('episode number')\n",
    "plt.ylabel('episode reward')\n",
    "plt.title('cliff walking game with SARSA')\n",
    "\n",
    "plt.plot(nums, rewards, marker='x', color='g', linewidth=0, alpha=0.2)\n",
    "plt.grid()\n",
    "\n",
    "plt.show()"
   ]
  },
  {
   "cell_type": "code",
   "execution_count": 20,
   "metadata": {},
   "outputs": [
    {
     "name": "stdout",
     "output_type": "stream",
     "text": [
      "Episode: 0, Score: -118Episode: 20, Score: -47Episode: 40, Score: -101Episode: 60, Score: -181Episode: 80, Score: -131Episode: 100, Score: -132Episode: 120, Score: -61Episode: 140, Score: -64Episode: 160, Score: -106Episode: 180, Score: -45Episode: 200, Score: -121Episode: 220, Score: -108Episode: 240, Score: -27Episode: 260, Score: -29Episode: 280, Score: -26Episode: 300, Score: -15Episode: 320, Score: -122Episode: 340, Score: -13Episode: 360, Score: -19Episode: 380, Score: -14Episode: 400, Score: -20Episode: 420, Score: -106Episode: 440, Score: -14Episode: 460, Score: -13Episode: 480, Score: -13Episode: 500, Score: -13Episode: 520, Score: -13Episode: 540, Score: -13Episode: 560, Score: -13Episode: 580, Score: -102Episode: 600, Score: -103Episode: 620, Score: -14Episode: 640, Score: -13Episode: 660, Score: -13Episode: 680, Score: -13Episode: 700, Score: -13Episode: 720, Score: -13Episode: 740, Score: -14Episode: 760, Score: -13Episode: 780, Score: -13Episode: 800, Score: -13Episode: 820, Score: -13Episode: 840, Score: -13Episode: 860, Score: -13Episode: 880, Score: -13Episode: 900, Score: -13Episode: 920, Score: -13Episode: 940, Score: -13Episode: 960, Score: -13Episode: 980, Score: -13Episode: 1000, Score: -13Episode: 1020, Score: -13Episode: 1040, Score: -13Episode: 1060, Score: -13Episode: 1080, Score: -13Episode: 1100, Score: -13Episode: 1120, Score: -13Episode: 1140, Score: -15Episode: 1160, Score: -13Episode: 1180, Score: -13Episode: 1200, Score: -111Episode: 1220, Score: -13Episode: 1240, Score: -13Episode: 1260, Score: -13Episode: 1280, Score: -13Episode: 1300, Score: -13Episode: 1320, Score: -15Episode: 1340, Score: -13Episode: 1360, Score: -13Episode: 1380, Score: -13Episode: 1400, Score: -15Episode: 1420, Score: -13Episode: 1440, Score: -13Episode: 1460, Score: -13Episode: 1480, Score: -13Episode: 1500, Score: -13Episode: 1520, Score: -13Episode: 1540, Score: -15Episode: 1560, Score: -15Episode: 1580, Score: -13Episode: 1600, Score: -13Episode: 1620, Score: -13Episode: 1640, Score: -13Episode: 1660, Score: -13Episode: 1680, Score: -13Episode: 1700, Score: -13Episode: 1720, Score: -15Episode: 1740, Score: -13Episode: 1760, Score: -15Episode: 1780, Score: -13Episode: 1800, Score: -13Episode: 1820, Score: -13Episode: 1840, Score: -13Episode: 1860, Score: -13Episode: 1880, Score: -13Episode: 1900, Score: -13Episode: 1920, Score: -13Episode: 1940, Score: -13Episode: 1960, Score: -13Episode: 1980, Score: -13Episode: 2000, Score: -13Episode: 2020, Score: -13Episode: 2040, Score: -13Episode: 2060, Score: -13Episode: 2080, Score: -13Episode: 2100, Score: -13Episode: 2120, Score: -13Episode: 2140, Score: -13Episode: 2160, Score: -13Episode: 2180, Score: -13Episode: 2200, Score: -13Episode: 2220, Score: -13Episode: 2240, Score: -13Episode: 2260, Score: -13Episode: 2280, Score: -13Episode: 2300, Score: -13Episode: 2320, Score: -13Episode: 2340, Score: -13Episode: 2360, Score: -13Episode: 2380, Score: -13Episode: 2400, Score: -13Episode: 2420, Score: -13Episode: 2440, Score: -107Episode: 2460, Score: -13Episode: 2480, Score: -13Episode: 2500, Score: -13Episode: 2520, Score: -13Episode: 2540, Score: -13Episode: 2560, Score: -13Episode: 2580, Score: -13Episode: 2600, Score: -109Episode: 2620, Score: -13Episode: 2640, Score: -13Episode: 2660, Score: -13Episode: 2680, Score: -13Episode: 2700, Score: -13Episode: 2720, Score: -13Episode: 2740, Score: -13Episode: 2760, Score: -13Episode: 2780, Score: -13Episode: 2800, Score: -13Episode: 2820, Score: -15Episode: 2840, Score: -13Episode: 2860, Score: -13Episode: 2880, Score: -13Episode: 2900, Score: -13Episode: 2920, Score: -13Episode: 2940, Score: -13Episode: 2960, Score: -13Episode: 2980, Score: -13"
     ]
    }
   ],
   "source": [
    "env = Env(length=12, height=4)\n",
    "table = Q_table(length=12, height=4)\n",
    "\n",
    "nums = []\n",
    "rewards = []\n",
    "\n",
    "is_online = False\n",
    "\n",
    "for num_episode in range(3000):\n",
    "    # within the whole learning process\n",
    "    episodic_reward = 0\n",
    "    is_terminated = False\n",
    "    s0 = [0, 0]\n",
    "    next_action = table.take_action(s0[0], s0[1], num_episode)\n",
    "    while not is_terminated:\n",
    "        # within one episode\n",
    "        if is_online:\n",
    "            action = next_action\n",
    "        else:\n",
    "            action = table.take_action(s0[0], s0[1], num_episode)\n",
    "        r, s1, is_terminated = env.step(action)\n",
    "        next_action = table.update(action, s0, s1, r, is_terminated, num_episode, is_online)\n",
    "        episodic_reward += r\n",
    "        # env.render(frames=100)\n",
    "        s0 = s1\n",
    "    if num_episode % 20 == 0:\n",
    "        print(\"Episode: {}, Score: {}\".format(num_episode, episodic_reward))\n",
    "    nums.append(num_episode)\n",
    "    rewards.append(episodic_reward)\n",
    "    env.reset()"
   ]
  },
  {
   "cell_type": "code",
   "execution_count": 21,
   "metadata": {},
   "outputs": [
    {
     "name": "stdout",
     "output_type": "stream",
     "text": [
      "➡️⬇️➡️⬆️➡️➡️➡️⬇️⬇️⬆️➡️⬅️\n",
      "⬇️➡️⬆️➡️➡️➡️➡️➡️➡️➡️⬇️⬇️\n",
      "➡️➡️➡️➡️➡️➡️➡️➡️➡️➡️➡️⬇️\n",
      "⬆️⬆️⬆️⬆️⬆️⬆️⬆️⬆️⬆️⬆️⬆️⬆️\n"
     ]
    }
   ],
   "source": [
    "for y in range(env.height-1, -1, -1):\n",
    "    for x in range(0, env.length):\n",
    "        print(way(np.argmax(get_item(table, x, y))), end='')\n",
    "    print()"
   ]
  },
  {
   "cell_type": "code",
   "execution_count": 22,
   "metadata": {},
   "outputs": [
    {
     "data": {
      "image/png": "[encoded data removed]",
      "text/plain": [
       "<Figure size 432x288 with 1 Axes>"
      ]
     },
     "metadata": {
      "needs_background": "light"
     },
     "output_type": "display_data"
    }
   ],
   "source": [
    "import matplotlib.pyplot as plt\n",
    "\n",
    "plt.xlabel('episode number')\n",
    "plt.ylabel('episode reward')\n",
    "plt.title('cliff walking game with Q-learning')\n",
    "\n",
    "plt.plot(nums, rewards, marker='x', color='g', linewidth=0, alpha=0.2)\n",
    "plt.grid()\n",
    "\n",
    "plt.show()"
   ]
  }
 ],
 "metadata": {
  "kernelspec": {
   "display_name": "Python 3.9.12 ('base')",
   "language": "python",
   "name": "python3"
  },
  "language_info": {
   "codemirror_mode": {
    "name": "ipython",
    "version": 3
   },
   "file_extension": ".py",
   "mimetype": "text/x-python",
   "name": "python",
   "nbconvert_exporter": "python",
   "pygments_lexer": "ipython3",
   "version": "3.9.12"
  },
  "vscode": {
   "interpreter": {
    "hash": "c2679e9b3f7a079ac28ccc2c1e8a6dd04a946db9d05fb7e4d51f4fa4aa4106bd"
   }
  }
 },
 "nbformat": 4,
 "nbformat_minor": 2
}
