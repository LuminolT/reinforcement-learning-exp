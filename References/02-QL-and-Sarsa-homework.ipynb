{
 "cells": [
  {
   "cell_type": "markdown",
   "metadata": {},
   "source": [
    "# Cliff Walking"
   ]
  },
  {
   "cell_type": "code",
   "execution_count": 7,
   "metadata": {},
   "outputs": [],
   "source": [
    "import time\n",
    "import random\n",
    "import numpy as np"
   ]
  },
  {
   "cell_type": "code",
   "execution_count": 75,
   "metadata": {},
   "outputs": [],
   "source": [
    "class Env():\n",
    "    def __init__(self, length, height):\n",
    "        # define the height and length of the map\n",
    "        self.length = length\n",
    "        self.height = height\n",
    "        # define the agent's start position\n",
    "        self.x = 0\n",
    "        self.y = 0\n",
    "\n",
    "    def render(self, frames=50):\n",
    "        for i in range(self.height):\n",
    "            if i == 0: # cliff is in the line 0\n",
    "                line = ['S'] + ['x']*(self.length - 2) + ['T'] # 'S':start, 'T':terminal, 'x':the cliff\n",
    "            else:\n",
    "                line = ['.'] * self.length\n",
    "            if self.x == i:\n",
    "                line[self.y] = 'o' # mark the agent's position as 'o'\n",
    "            print(''.join(line))\n",
    "        print('\\033['+str(self.height+1)+'A')  # printer go back to top-left \n",
    "        time.sleep(1.0 / frames)\n",
    "\n",
    "    def step(self, action):\n",
    "        \"\"\"4 legal actions, 0:up, 1:down, 2:left, 3:right\"\"\"\n",
    "        change = [[0, 1], [0, -1], [-1, 0], [1, 0]]\n",
    "        self.x = min(self.length - 1, max(0, self.x + change[action][0]))\n",
    "        self.y = min(self.height - 1, max(0, self.y + change[action][1]))\n",
    "\n",
    "        states = [self.x, self.y]\n",
    "        reward = -1\n",
    "        terminal = False\n",
    "        if self.y == 0: # if agent is on the cliff line \"SxxxxxT\"\n",
    "            if self.x > 0: # if agent is not on the start position \n",
    "                terminal = True\n",
    "                if self.x != self.length - 1: # if agent falls\n",
    "                    reward = -100\n",
    "        return reward, states, terminal\n",
    "\n",
    "    def reset(self):\n",
    "        self.x = 0\n",
    "        self.y = 0"
   ]
  },
  {
   "cell_type": "code",
   "execution_count": 2,
   "metadata": {},
   "outputs": [],
   "source": [
    "class Q_table():\n",
    "    def __init__(self, length, height, actions=4, alpha=0.1, gamma=0.9):\n",
    "        self.table = [0] * actions * length * height # initialize all Q(s,a) to zero\n",
    "        self.actions = actions\n",
    "        self.length = length\n",
    "        self.height = height\n",
    "        self.alpha = alpha\n",
    "        self.gamma = gamma\n",
    "\n",
    "    def _index(self, a, x, y):\n",
    "        \"\"\"Return the index of Q([x,y], a) in Q_table.\"\"\"\n",
    "        return a * self.height * self.length + x * self.length + y\n",
    "\n",
    "    def _epsilon(self):\n",
    "        return 0.1\n",
    "        # version for better convergence:\n",
    "        # \"\"\"At the beginning epsilon is 0.2, after 300 episodes decades to 0.05, and eventually go to 0.\"\"\"\n",
    "        # return 20. / (num_episode + 100)\n",
    "\n",
    "    def take_action(self, x, y, num_episode):\n",
    "        \"\"\"epsilon-greedy action selection\"\"\"\n",
    "        if random.random() < self._epsilon():\n",
    "            return int(random.random() * 4)\n",
    "        else:\n",
    "            actions_value = [self.table[self._index(a, x, y)] for a in range(self.actions)]\n",
    "            return actions_value.index(max(actions_value))\n",
    "\n",
    "    def max_q(self, x, y):\n",
    "        actions_value = [self.table[self._index(a, x, y)] for a in range(self.actions)]\n",
    "        return max(actions_value)\n",
    "\n",
    "    def update(self, a, s0, s1, r, is_terminated):\n",
    "        # both s0, s1 have the form [x,y]\n",
    "        q_predict = self.table[self._index(a, s0[0], s0[1])]\n",
    "        if not is_terminated:\n",
    "            q_target = r + self.gamma * self.max_q(s1[0], s1[1])\n",
    "        else:\n",
    "            q_target = r\n",
    "        self.table[self._index(a, s0[0], s0[1])] += self.alpha * (q_target - q_predict)"
   ]
  },
  {
   "cell_type": "code",
   "execution_count": 3,
   "metadata": {},
   "outputs": [],
   "source": [
    "class Env():\n",
    "    def __init__(self, length, height):\n",
    "        # define the height and length of the map\n",
    "        self.length = length\n",
    "        self.height = height\n",
    "        # define the agent's start position\n",
    "        self.x = 0\n",
    "        self.y = 0\n",
    "\n",
    "    def render(self, frames=50):\n",
    "        for i in range(self.height):\n",
    "            if i == 0: # cliff is in the line 0\n",
    "                line = ['S'] + ['x']*(self.length - 2) + ['T'] # 'S':start, 'T':terminal, 'x':the cliff\n",
    "            else:\n",
    "                line = ['.'] * self.length\n",
    "            if self.x == i:\n",
    "                line[self.y] = 'o' # mark the agent's position as 'o'\n",
    "            print(''.join(line))\n",
    "        print('\\033['+str(self.height+1)+'A')  # printer go back to top-left \n",
    "        time.sleep(1.0 / frames)\n",
    "\n",
    "    def step(self, action):\n",
    "        \"\"\"4 legal actions, 0:up, 1:down, 2:left, 3:right\"\"\"\n",
    "        change = [[0, 1], [0, -1], [-1, 0], [1, 0]]\n",
    "        self.x = min(self.height - 1, max(0, self.x + change[action][0]))\n",
    "        self.y = min(self.length - 1, max(0, self.y + change[action][1]))\n",
    "\n",
    "        states = [self.x, self.y]\n",
    "        reward = -1\n",
    "        terminal = False\n",
    "        if self.x == 0: # if agent is on the cliff line \"SxxxxxT\"\n",
    "            if self.y > 0: # if agent is not on the start position \n",
    "                terminal = True\n",
    "                if self.y != self.length - 1: # if agent falls\n",
    "                    reward = -100\n",
    "        return reward, states, terminal\n",
    "\n",
    "    def reset(self):\n",
    "        self.x = 0\n",
    "        self.y = 0"
   ]
  },
  {
   "cell_type": "code",
   "execution_count": 4,
   "metadata": {},
   "outputs": [],
   "source": [
    "class Q_table():\n",
    "    def __init__(self, length, height, actions=4, alpha=0.1, gamma=0.9):\n",
    "        self.table = [0] * actions * length * height # initialize all Q(s,a) to zero\n",
    "        self.actions = actions\n",
    "        self.length = length\n",
    "        self.height = height\n",
    "        self.alpha = alpha\n",
    "        self.gamma = gamma\n",
    "\n",
    "    def _index(self, a, x, y):\n",
    "        \"\"\"Return the index of Q([x,y], a) in Q_table.\"\"\"\n",
    "        return a * self.height * self.length + x * self.height + y\n",
    "\n",
    "    def _epsilon(self, num_episode):\n",
    "        # return 0.1\n",
    "        # version for better convergence:\n",
    "        # \"\"\"At the beginning epsilon is 0.2, after 300 episodes decades to 0.05, and eventually go to 0.\"\"\"\n",
    "        return 20. / (num_episode + 100)\n",
    "\n",
    "    # def take_action(self, x, y, num_episode):\n",
    "        rand_percentile = random.random()\n",
    "        if rand_percentile < self._epsilon(num_episode):\n",
    "            # Exploration: Random Action\n",
    "            # print(rand_percentile, '+', self._epsilon(num_episode))\n",
    "            return random.randint(0, 3)\n",
    "        else:\n",
    "            # Exploitation: Greedy Action\n",
    "            actions_values = []\n",
    "            for act in range(self.actions):\n",
    "                actions_values.append(self.table[self._index(act, x, y)])\n",
    "            return np.argmax(actions_values)\n",
    "\n",
    "    # def max_q(self, x, y):\n",
    "    #     return max([self.table[self._index(act, x, y)] for act in range(self.actions)])\n",
    "    \n",
    "    # def update(self, a, s0, s1, r, is_terminated):\n",
    "    #     # both s0, s1 have the form [x,y]\n",
    "    #     # s0 -> S, S1 -> S', r -> R\n",
    "    #     # qsa -> Q(S, A)\n",
    "    #     qsa = self.table[self._index(a, s0[0], s0[1])]\n",
    "    #     if is_terminated:\n",
    "    #         td_target = r\n",
    "    #     else:\n",
    "    #         td_target = r + self.gamma * self.max_q(s0[0], s0[1])\n",
    "    #     self.table[self._index(a, s0[0], s0[1])] += self.alpha * (td_target- qsa)\n",
    "    def take_action(self, x, y, num_episode):\n",
    "        if self._epsilon(num_episode) > random.random():\n",
    "            return random.randint(0,3)\n",
    "        else:\n",
    "            arr=np.zeros(self.actions)\n",
    "            max=-200\n",
    "            id=0\n",
    "            for i in range(self.actions):\n",
    "                arr[i]=self.table[self._index(i,x,y)]\n",
    "                if arr[i]>max:\n",
    "                    id=i\n",
    "                    max=arr[i]\n",
    "            return id\n",
    "\n",
    "\n",
    "    def max_q(self, x, y):\n",
    "        # actions_value = [self.table[self._index(a, x, y)] for a in range(self.actions)]\n",
    "        # return max(actions_value)\n",
    "        arr=np.zeros(self.actions)\n",
    "        max=-200\n",
    "        id=0\n",
    "        for i in range(self.actions):\n",
    "            arr[i]=self.table[self._index(i,x,y)]\n",
    "            if arr[i]>max:\n",
    "                id=i\n",
    "                max=arr[i]\n",
    "        return max\n",
    "\n",
    "    def update(self, a, s0, s1, r, is_terminated):\n",
    "        # both s0, s1 have the form [x,y]\n",
    "        \n",
    "        pre=self.table[self._index(a,s0[0],s0[1])]\n",
    "        if is_terminated:\n",
    "            target=r\n",
    "        else:\n",
    "            target=r+self.gamma*self.max_q(s1[0],s1[1])\n",
    "        self.table[self._index(a,s0[0],s0[1])]=pre+self.alpha*(target-pre)"
   ]
  },
  {
   "cell_type": "code",
   "execution_count": 5,
   "metadata": {},
   "outputs": [],
   "source": [
    "def cliff_walk():\n",
    "    ret_num_episode = []\n",
    "    ret_episodic_reward = []\n",
    "    env = Env(length=12, height=4)\n",
    "    table = Q_table(length=12, height=4)\n",
    "    for num_episode in range(3000):\n",
    "        # within the whole learning process\n",
    "        \n",
    "        episodic_reward = 0\n",
    "        is_terminated = False\n",
    "        s0 = [0, 0]\n",
    "    \n",
    "        while not is_terminated:\n",
    "            \n",
    "            # within one episode\n",
    "            action = table.take_action(s0[0], s0[1], num_episode)\n",
    "            # observe R, S'\n",
    "            r, s1, is_terminated = env.step(action)\n",
    "            \n",
    "            # s0 -> S, S1 -> S', r -> R\n",
    "            table.update(action, s0, s1, r, is_terminated)\n",
    "            episodic_reward += r\n",
    "            # env.render(frames=100)\n",
    "            s0 = s1\n",
    "        \n",
    "        if num_episode % 20 == 0:\n",
    "            print('\\r Episode: {0}, Reward: {1}'.format(num_episode, episodic_reward), end='')\n",
    "        \n",
    "        ret_num_episode.append(num_episode)\n",
    "        ret_episodic_reward.append(episodic_reward)\n",
    "        \n",
    "        # print([table.table[table._index(a, 0, 0)] for a in range(4)])\n",
    "        \n",
    "        env.reset()\n",
    "        \n",
    "        \n",
    "    return ret_num_episode, ret_episodic_reward, env, table"
   ]
  },
  {
   "cell_type": "code",
   "execution_count": 19,
   "metadata": {},
   "outputs": [
    {
     "name": "stdout",
     "output_type": "stream",
     "text": [
      " Episode: 2980, Reward: -173"
     ]
    }
   ],
   "source": [
    "nums, rewards, env, table = cliff_walk()"
   ]
  },
  {
   "cell_type": "code",
   "execution_count": 9,
   "metadata": {},
   "outputs": [
    {
     "name": "stdout",
     "output_type": "stream",
     "text": [
      "➡️➡️➡️⬇️➡️⬇️⬇️⬅️➡️⬅️⬆️⬆️\n",
      "➡️⬆️⬆️➡️➡️➡️➡️⬇️➡️⬇️⬇️⬅️\n",
      "➡️⬆️⬅️⬅️➡️⬆️⬆️➡️➡️➡️➡️⬇️\n",
      "⬆️➡️➡️➡️➡️⬆️⬅️⬅️➡️⬆️⬆️➡️\n"
     ]
    }
   ],
   "source": [
    "def get_item(table, x, y):\n",
    "    return [table.table[table._index(a, x, y)] for a in range(4)]\n",
    "\n",
    "def way(dir):\n",
    "    if dir == 0:\n",
    "        return '➡️'\n",
    "    elif dir == 1:\n",
    "        return '⬅️'\n",
    "    elif dir == 2:\n",
    "        return '⬇️'\n",
    "    elif dir == 3:\n",
    "        return '⬆️'\n",
    "\n",
    "\n",
    "## print_all_actions(table):\n",
    "for i in range(env.height-1, -1, -1):\n",
    "    for j in range(0, env.length):\n",
    "        print(way(np.argmax(get_item(table, i, j))), end='')\n",
    "    print()"
   ]
  },
  {
   "cell_type": "code",
   "execution_count": 16,
   "metadata": {},
   "outputs": [
    {
     "data": {
      "text/plain": [
       "[0, 0, 0, 0]"
      ]
     },
     "execution_count": 16,
     "metadata": {},
     "output_type": "execute_result"
    }
   ],
   "source": [
    "get_item(table, 0, 1)"
   ]
  },
  {
   "cell_type": "code",
   "execution_count": 11,
   "metadata": {},
   "outputs": [
    {
     "name": "stdout",
     "output_type": "stream",
     "text": [
      "oxxxxxxxxxxT\n",
      "............\n",
      "............\n",
      "............\n",
      "\u001b[5A\n"
     ]
    }
   ],
   "source": [
    "env.render(frames=3000)"
   ]
  },
  {
   "cell_type": "code",
   "execution_count": 20,
   "metadata": {},
   "outputs": [
    {
     "data": {
      "image/png": "[encoded data removed]",
      "text/plain": [
       "<Figure size 640x480 with 1 Axes>"
      ]
     },
     "metadata": {},
     "output_type": "display_data"
    }
   ],
   "source": [
    "import matplotlib.pyplot as plt\n",
    "\n",
    "plt.xlabel('episode number')\n",
    "plt.ylabel('episode reward')\n",
    "plt.title('cliff walking game with Q-learning')\n",
    "\n",
    "plt.plot(nums, rewards, marker='x', color='g', linewidth=0, alpha=0.2)\n",
    "plt.grid()\n",
    "\n",
    "plt.show()"
   ]
  },
  {
   "cell_type": "markdown",
   "metadata": {},
   "source": [
    "# MountainCar-v0"
   ]
  },
  {
   "cell_type": "code",
   "execution_count": 5,
   "metadata": {},
   "outputs": [
    {
     "name": "stdout",
     "output_type": "stream",
     "text": [
      "------ using SARSA Learning ---\n"
     ]
    },
    {
     "ename": "TypeError",
     "evalue": "only size-1 arrays can be converted to Python scalars",
     "output_type": "error",
     "traceback": [
      "\u001b[0;31m---------------------------------------------------------------------------\u001b[0m",
      "\u001b[0;31mTypeError\u001b[0m                                 Traceback (most recent call last)",
      "Cell \u001b[0;32mIn [5], line 65\u001b[0m\n\u001b[1;32m     63\u001b[0m eta \u001b[39m=\u001b[39m \u001b[39mmax\u001b[39m(min_lr, initial_lr \u001b[39m*\u001b[39m (\u001b[39m0.85\u001b[39m \u001b[39m*\u001b[39m\u001b[39m*\u001b[39m (i\u001b[39m/\u001b[39m\u001b[39m/\u001b[39m\u001b[39m100\u001b[39m)))\n\u001b[1;32m     64\u001b[0m \u001b[39mfor\u001b[39;00m j \u001b[39min\u001b[39;00m \u001b[39mrange\u001b[39m(t_max):\n\u001b[0;32m---> 65\u001b[0m     a, b \u001b[39m=\u001b[39m obs_to_state(env, obs)\n\u001b[1;32m     66\u001b[0m     \u001b[39mif\u001b[39;00m np\u001b[39m.\u001b[39mrandom\u001b[39m.\u001b[39muniform(\u001b[39m0\u001b[39m, \u001b[39m1\u001b[39m) \u001b[39m<\u001b[39m eps:\n\u001b[1;32m     67\u001b[0m         action \u001b[39m=\u001b[39m np\u001b[39m.\u001b[39mrandom\u001b[39m.\u001b[39mchoice(env\u001b[39m.\u001b[39maction_space\u001b[39m.\u001b[39mn)\n",
      "Cell \u001b[0;32mIn [5], line 42\u001b[0m, in \u001b[0;36mobs_to_state\u001b[0;34m(env, obs)\u001b[0m\n\u001b[1;32m     40\u001b[0m env_high \u001b[39m=\u001b[39m env\u001b[39m.\u001b[39mobservation_space\u001b[39m.\u001b[39mhigh\n\u001b[1;32m     41\u001b[0m env_dx \u001b[39m=\u001b[39m (env_high \u001b[39m-\u001b[39m env_low) \u001b[39m/\u001b[39m n_states\n\u001b[0;32m---> 42\u001b[0m a \u001b[39m=\u001b[39m \u001b[39mint\u001b[39m((obs[\u001b[39m0\u001b[39m] \u001b[39m-\u001b[39m env_low[\u001b[39m0\u001b[39m])\u001b[39m/\u001b[39menv_dx[\u001b[39m0\u001b[39m])\n\u001b[1;32m     43\u001b[0m b \u001b[39m=\u001b[39m \u001b[39mint\u001b[39m((obs[\u001b[39m1\u001b[39m] \u001b[39m-\u001b[39m env_low[\u001b[39m1\u001b[39m])\u001b[39m/\u001b[39menv_dx[\u001b[39m1\u001b[39m])\n\u001b[1;32m     44\u001b[0m a \u001b[39m=\u001b[39m a \u001b[39mif\u001b[39;00m a \u001b[39m<\u001b[39m n_states \u001b[39melse\u001b[39;00m n_states \u001b[39m-\u001b[39m \u001b[39m1\u001b[39m\n",
      "\u001b[0;31mTypeError\u001b[0m: only size-1 arrays can be converted to Python scalars"
     ]
    }
   ],
   "source": [
    "import numpy as np\n",
    "\n",
    "import gym\n",
    "from gym import wrappers\n",
    "\n",
    "off_policy = False # if True use off-policy q-learning update, if False, use on-policy SARSA update\n",
    "\n",
    "n_states = 40\n",
    "iter_max = 5000\n",
    "\n",
    "initial_lr = 1.0 # Learning rate\n",
    "min_lr = 0.003\n",
    "gamma = 1.0\n",
    "t_max = 10000\n",
    "eps = 0.1\n",
    "\n",
    "def run_episode(env, policy=None, render=False):\n",
    "    obs = env.reset()\n",
    "    total_reward = 0\n",
    "    step_idx = 0\n",
    "    for _ in range(t_max):\n",
    "        if render:\n",
    "            env.render()\n",
    "        if policy is None:\n",
    "            action = env.action_space.sample()\n",
    "        else:\n",
    "            a,b = obs_to_state(env, obs)\n",
    "            action = policy[a][b]\n",
    "        obs, reward, done, _ = env.step(action)\n",
    "        total_reward += gamma ** step_idx * reward\n",
    "        step_idx += 1\n",
    "        if done:\n",
    "            break\n",
    "    return total_reward\n",
    "\n",
    "def obs_to_state(env, obs):\n",
    "    \"\"\" Maps an observation to state \"\"\"\n",
    "    # we quantify the continous state space into discrete space\n",
    "    env_low = env.observation_space.low\n",
    "    env_high = env.observation_space.high\n",
    "    env_dx = (env_high - env_low) / n_states\n",
    "    a = int((obs[0] - env_low[0])/env_dx[0])\n",
    "    b = int((obs[1] - env_low[1])/env_dx[1])\n",
    "    a = a if a < n_states else n_states - 1\n",
    "    b = b if b < n_states else n_states - 1\n",
    "    return a, b\n",
    "\n",
    "if __name__ == '__main__':\n",
    "    env_name = 'MountainCar-v0'\n",
    "    env = gym.make(env_name)\n",
    "    # env.seed(0)\n",
    "    np.random.seed(0)\n",
    "    if off_policy == True:\n",
    "        print ('----- using Q Learning -----')\n",
    "    else:\n",
    "        print('------ using SARSA Learning ---')\n",
    "\n",
    "    q_table = np.zeros((n_states, n_states, 3))\n",
    "    for i in range(iter_max):\n",
    "        obs = env.reset()\n",
    "        total_reward = 0\n",
    "        ## eta: learning rate is decreased at each step\n",
    "        eta = max(min_lr, initial_lr * (0.85 ** (i//100)))\n",
    "        for j in range(t_max):\n",
    "            a, b = obs_to_state(env, obs)\n",
    "            if np.random.uniform(0, 1) < eps:\n",
    "                action = np.random.choice(env.action_space.n)\n",
    "            else:\n",
    "                action = np.argmax(q_table[a][b])\n",
    "            obs, reward, done, _ = env.step(action)\n",
    "            total_reward += reward\n",
    "            # update q table\n",
    "            a_, b_ = obs_to_state(env, obs)\n",
    "            if off_policy == True:\n",
    "                # use q-learning update (off-policy learning)\n",
    "                q_table[a][b][action] = q_table[a][b][action] + eta * (reward + gamma *  np.max(q_table[a_][b_]) - q_table[a][b][action])\n",
    "            else:\n",
    "                # use SARSA update (on-policy learning)\n",
    "                # epsilon-greedy policy on Q again\n",
    "                if np.random.uniform(0,1) < eps:\n",
    "                    action_ = np.random.choice(env.action_space.n)\n",
    "                else:\n",
    "                    action_ = np.argmax(q_table[a_][b_])\n",
    "                q_table[a][b][action] = q_table[a][b][action] + eta * (reward + gamma *  q_table[a_][b_][action_] - q_table[a][b][action])\n",
    "            if done:\n",
    "                break\n",
    "        if i % 200 == 0:\n",
    "            print('Iteration #%d -- Total reward = %d.' %(i+1, total_reward))\n",
    "    solution_policy = np.argmax(q_table, axis=2)\n",
    "    solution_policy_scores = [run_episode(env, solution_policy, False) for _ in range(100)]\n",
    "    print(\"Average score of solution = \", np.mean(solution_policy_scores))\n",
    "    # Animate it\n",
    "    for _ in range(2):\n",
    "        run_episode(env, solution_policy, True)\n",
    "    env.close()"
   ]
  }
 ],
 "metadata": {
  "kernelspec": {
   "display_name": "Python 3.9.12 ('base')",
   "language": "python",
   "name": "python3"
  },
  "language_info": {
   "codemirror_mode": {
    "name": "ipython",
    "version": 3
   },
   "file_extension": ".py",
   "mimetype": "text/x-python",
   "name": "python",
   "nbconvert_exporter": "python",
   "pygments_lexer": "ipython3",
   "version": "3.9.12"
  },
  "vscode": {
   "interpreter": {
    "hash": "c2679e9b3f7a079ac28ccc2c1e8a6dd04a946db9d05fb7e4d51f4fa4aa4106bd"
   }
  }
 },
 "nbformat": 4,
 "nbformat_minor": 2
}
